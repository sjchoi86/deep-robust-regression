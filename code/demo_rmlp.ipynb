{
 "cells": [
  {
   "cell_type": "markdown",
   "metadata": {},
   "source": [
    "### Train Robust MLP with Boston housing dataset"
   ]
  },
  {
   "cell_type": "code",
   "execution_count": null,
   "metadata": {},
   "outputs": [],
   "source": [
    "import numpy as np\n",
    "import tensorflow as tf\n",
    "tf.logging.set_verbosity(tf.logging.ERROR)\n",
    "import tensorflow.contrib.slim as slim\n",
    "import matplotlib.pyplot as plt\n",
    "%matplotlib inline  \n",
    "%config InlineBackend.figure_format = 'retina'\n",
    "from mlp_reg_class import mlp_reg_class\n",
    "from sklearn.datasets import load_boston\n",
    "from util import nzr,get_train_test_datasets,gpusession\n",
    "print (\"Packages loaded\")"
   ]
  },
  {
   "cell_type": "code",
   "execution_count": null,
   "metadata": {},
   "outputs": [],
   "source": []
  },
  {
   "cell_type": "code",
   "execution_count": null,
   "metadata": {},
   "outputs": [],
   "source": [
    "RUN_L1_LOSS = 0\n",
    "RUN_ROBUST_LOSS = 1\n",
    "RUN_LEAKY_ROBUST_LOSS = 1"
   ]
  },
  {
   "cell_type": "code",
   "execution_count": null,
   "metadata": {},
   "outputs": [],
   "source": []
  },
  {
   "cell_type": "markdown",
   "metadata": {},
   "source": [
    "### L1 Loss"
   ]
  },
  {
   "cell_type": "code",
   "execution_count": null,
   "metadata": {
    "scrolled": false
   },
   "outputs": [],
   "source": [
    "if RUN_L1_LOSS:\n",
    "    rseed = 1\n",
    "    dataset,dataset_name = load_boston(),'boston' # select dataset to use\n",
    "    outlier_rates = [0,0.05,0.1,0.15,0.2,0.3,0.4,0.5]\n",
    "    rmses = []\n",
    "    for outlier_rate in outlier_rates: # with different outlier rates\n",
    "        x_train,x_test,y_train,y_test = get_train_test_datasets(\n",
    "            dataset,dataset_name,_test_size=0.333,_outlier_rate=outlier_rate,\n",
    "            _seed=rseed,_SAVE_MAT=False,_VERBOSE=False) # get training data with outliers\n",
    "        tf.reset_default_graph(); sess = gpusession()\n",
    "        tf.set_random_seed(rseed); np.random.seed(rseed) # fix seeds\n",
    "        MLP = mlp_reg_class(_name='rmlp_%s'%(dataset_name),_x_dim=np.shape(x_train)[1],_y_dim=1,\n",
    "                             _h_dims=[256,128],_actv=tf.nn.relu,_bn=slim.batch_norm,#slim.batch_norm/None\n",
    "                             _l2_reg_coef=1e-3,_GPU_ID=2,_L1_LOSS=1,_ROBUST_LOSS=0,_LEAKY_ROBUST_LOSS=0,_VERBOSE=0)\n",
    "        sess.run(tf.global_variables_initializer()) # initialize variables\n",
    "        MLP.train(_sess=sess,_x_train=x_train,_y_train=y_train,\n",
    "                  _lr=1e-3,_batch_size=256,_max_epoch=1e4,_kp=1.0,\n",
    "                  _LR_SCHEDULE=0,_PRINT_EVERY=0,_PLOT_EVERY=0,\n",
    "                  _SAVE_TXT=0,_SAVE_BEST_NET=0,_SAVE_FINAL=0,_REMOVE_PREVS=0,\n",
    "                  _x_dim4plot=5,_x_name4plot='Average number of rooms per dwelling') # train\n",
    "        rmse = MLP.test(_sess=sess,_x_train=x_train,_y_train=y_train,_x_test=x_test,_y_test=y_test,\n",
    "                        _PLOT_TRAIN=0,_PLOT_TEST=1,_SAVE_FIG=0,\n",
    "                        _title_str4data='Outlier rate:[%.1f]'%(outlier_rate),\n",
    "                        _x_dim4plot=5,_x_name4plot='Average number of rooms per dwelling') # test\n",
    "        rmses.append(rmse) # collect rmse\n",
    "        print (\"outlier rate:[%.1f] rmse:[%.4f]\"%(outlier_rate,rmse))\n",
    "    print (\"Done.\")\n",
    "    # Plot overall RMSE vs. outlier rate \n",
    "    plt.plot(outlier_rates,rmses,'ko-')\n",
    "    plt.xlabel('Outlier Rate',fontsize=13)\n",
    "    plt.ylabel('RMSE',fontsize=13)\n",
    "    plt.show()"
   ]
  },
  {
   "cell_type": "code",
   "execution_count": null,
   "metadata": {},
   "outputs": [],
   "source": []
  },
  {
   "cell_type": "markdown",
   "metadata": {},
   "source": [
    "### Robust loss "
   ]
  },
  {
   "cell_type": "code",
   "execution_count": null,
   "metadata": {
    "scrolled": true
   },
   "outputs": [],
   "source": [
    "if RUN_ROBUST_LOSS:\n",
    "    rseed = 1\n",
    "    dataset,dataset_name = load_boston(),'boston' # select dataset to use\n",
    "    outlier_rates = [0,0.05,0.1,0.15,0.2,0.3,0.4,0.5]\n",
    "    rmses = []\n",
    "    for outlier_rate in outlier_rates: # with different outlier rates\n",
    "        x_train,x_test,y_train,y_test = get_train_test_datasets(\n",
    "            dataset,dataset_name,_test_size=0.333,_outlier_rate=outlier_rate,\n",
    "            _seed=rseed,_SAVE_MAT=False,_VERBOSE=False) # get training data with outliers\n",
    "        tf.reset_default_graph(); sess = gpusession()\n",
    "        tf.set_random_seed(rseed); np.random.seed(rseed) # fix seeds\n",
    "        MLP = mlp_reg_class(_name='rmlp_%s'%(dataset_name),_x_dim=np.shape(x_train)[1],_y_dim=1,\n",
    "                             _h_dims=[256,128],_actv=tf.nn.relu,_bn=slim.batch_norm,#slim.batch_norm/None\n",
    "                             _l2_reg_coef=1e-8,_GPU_ID=-1,_L1_LOSS=0,_ROBUST_LOSS=1,_LEAKY_ROBUST_LOSS=0,_VERBOSE=0)\n",
    "        sess.run(tf.global_variables_initializer()) # initialize variables\n",
    "        MLP.train(_sess=sess,_x_train=x_train,_y_train=y_train,\n",
    "                  _lr=1e-3,_batch_size=256,_max_epoch=1e4,_kp=1.0,\n",
    "                  _LR_SCHEDULE=0,_PRINT_EVERY=0,_PLOT_EVERY=0,\n",
    "                  _SAVE_TXT=0,_SAVE_BEST_NET=0,_SAVE_FINAL=0,_REMOVE_PREVS=0,\n",
    "                  _x_dim4plot=5,_x_name4plot='Average number of rooms per dwelling') # train\n",
    "        rmse = MLP.test(_sess=sess,_x_train=x_train,_y_train=y_train,_x_test=x_test,_y_test=y_test,\n",
    "                        _PLOT_TRAIN=0,_PLOT_TEST=1,_SAVE_FIG=0,\n",
    "                        _title_str4data='Outlier rate:[%.1f]'%(outlier_rate),\n",
    "                        _x_dim4plot=5,_x_name4plot='Average number of rooms per dwelling') # test\n",
    "        rmses.append(rmse) # collect rmse\n",
    "        print (\"outlier rate:[%.1f] rmse:[%.4f]\"%(outlier_rate,rmse))\n",
    "    print (\"Done.\")\n",
    "    # Plot overall RMSE vs. outlier rate \n",
    "    plt.plot(outlier_rates,rmses,'ko-')\n",
    "    plt.xlabel('Outlier Rate',fontsize=13)\n",
    "    plt.ylabel('RMSE',fontsize=13)\n",
    "    plt.show()"
   ]
  },
  {
   "cell_type": "code",
   "execution_count": null,
   "metadata": {},
   "outputs": [],
   "source": []
  },
  {
   "cell_type": "markdown",
   "metadata": {},
   "source": [
    "### Leaky Robust loss"
   ]
  },
  {
   "cell_type": "code",
   "execution_count": null,
   "metadata": {},
   "outputs": [],
   "source": [
    "if RUN_LEAKY_ROBUST_LOSS:\n",
    "    rseed = 1\n",
    "    dataset,dataset_name = load_boston(),'boston' # select dataset to use\n",
    "    outlier_rates = [0,0.05,0.1,0.15,0.2,0.3,0.4,0.5]\n",
    "    rmses = []\n",
    "    for outlier_rate in outlier_rates: # with different outlier rates\n",
    "        x_train,x_test,y_train,y_test = get_train_test_datasets(\n",
    "            dataset,dataset_name,_test_size=0.333,_outlier_rate=outlier_rate,\n",
    "            _seed=rseed,_SAVE_MAT=False,_VERBOSE=False) # get training data with outliers\n",
    "        tf.reset_default_graph(); sess = gpusession()\n",
    "        tf.set_random_seed(rseed); np.random.seed(rseed) # fix seeds\n",
    "        MLP = mlp_reg_class(_name='rmlp_%s'%(dataset_name),_x_dim=np.shape(x_train)[1],_y_dim=1,\n",
    "                             _h_dims=[256,128],_actv=tf.nn.relu,_bn=slim.batch_norm,#slim.batch_norm/None\n",
    "                             _l2_reg_coef=1e-8,_GPU_ID=1,_L1_LOSS=0,_ROBUST_LOSS=0,_LEAKY_ROBUST_LOSS=1,_VERBOSE=0)\n",
    "        sess.run(tf.global_variables_initializer()) # initialize variables\n",
    "        MLP.train(_sess=sess,_x_train=x_train,_y_train=y_train,\n",
    "                  _lr=1e-3,_batch_size=512,_max_epoch=1e4,_kp=1.0,\n",
    "                  _LR_SCHEDULE=0,_PRINT_EVERY=0,_PLOT_EVERY=0,\n",
    "                  _SAVE_TXT=0,_SAVE_BEST_NET=0,_SAVE_FINAL=0,_REMOVE_PREVS=0,\n",
    "                  _x_dim4plot=5,_x_name4plot='Average number of rooms per dwelling') # train\n",
    "        rmse = MLP.test(_sess=sess,_x_train=x_train,_y_train=y_train,_x_test=x_test,_y_test=y_test,\n",
    "                        _PLOT_TRAIN=0,_PLOT_TEST=1,_SAVE_FIG=0,\n",
    "                        _title_str4data='Outlier rate:[%.1f]'%(outlier_rate),\n",
    "                        _x_dim4plot=5,_x_name4plot='Average number of rooms per dwelling') # test\n",
    "        rmses.append(rmse) # collect rmse\n",
    "        print (\"outlier rate:[%.1f] rmse:[%.4f]\"%(outlier_rate,rmse))\n",
    "    print (\"Done.\")\n",
    "    # Plot overall RMSE vs. outlier rate \n",
    "    plt.plot(outlier_rates,rmses,'ko-')\n",
    "    plt.xlabel('Outlier Rate',fontsize=13)\n",
    "    plt.ylabel('RMSE',fontsize=13)\n",
    "    plt.show()"
   ]
  },
  {
   "cell_type": "code",
   "execution_count": null,
   "metadata": {},
   "outputs": [],
   "source": []
  },
  {
   "cell_type": "code",
   "execution_count": null,
   "metadata": {},
   "outputs": [],
   "source": []
  }
 ],
 "metadata": {
  "kernelspec": {
   "display_name": "Python 3",
   "language": "python",
   "name": "python3"
  },
  "language_info": {
   "codemirror_mode": {
    "name": "ipython",
    "version": 3
   },
   "file_extension": ".py",
   "mimetype": "text/x-python",
   "name": "python",
   "nbconvert_exporter": "python",
   "pygments_lexer": "ipython3",
   "version": "3.5.2"
  }
 },
 "nbformat": 4,
 "nbformat_minor": 2
}
